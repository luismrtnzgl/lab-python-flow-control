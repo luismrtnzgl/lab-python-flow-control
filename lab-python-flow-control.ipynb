{
 "cells": [
  {
   "cell_type": "markdown",
   "id": "d3bfc191-8885-42ee-b0a0-bbab867c6f9f",
   "metadata": {
    "tags": []
   },
   "source": [
    "# Lab | Flow Control"
   ]
  },
  {
   "cell_type": "markdown",
   "id": "3851fcd1-cf98-4653-9c89-e003b7ec9400",
   "metadata": {},
   "source": [
    "## Exercise: Managing Customer Orders Optimized\n",
    "\n",
    "In the last lab, you were starting an online store that sells various products. To ensure smooth operations, you developed a program that manages customer orders and inventory.\n",
    "\n",
    "You did so without using flow control. Let's go a step further and improve this code.\n",
    "\n",
    "Follow the steps below to complete the exercise:\n",
    "\n",
    "1. Look at your code from the lab data structures, and improve repeated code with loops.\n",
    "\n",
    "2. Instead of asking the user to input the name of three products that a customer wants to order, do the following:\n",
    "    \n",
    "    a. Prompt the user to enter the name of a product that a customer wants to order.\n",
    "    \n",
    "    b. Add the product name to the \"customer_orders\" set.\n",
    "    \n",
    "    c. Ask the user if they want to add another product (yes/no).\n",
    "    \n",
    "    d. Continue the loop until the user does not want to add another product.\n",
    "\n",
    "3. Instead of updating the inventory by subtracting 1 from the quantity of each product, only do it for  the products that were ordered (those in \"customer_orders\")."
   ]
  },
  {
   "cell_type": "code",
   "execution_count": 6,
   "id": "18e27c2d",
   "metadata": {},
   "outputs": [
    {
     "name": "stdout",
     "output_type": "stream",
     "text": [
      "{'t-shirt': 4, 'mug': 5, 'hat': 6, 'book': 7, 'keychain': 8}\n"
     ]
    }
   ],
   "source": [
    "#Creo la lista de los productos\n",
    "products = [\"t-shirt\", \"mug\", \"hat\", \"book\", \"keychain\"]\n",
    "\n",
    "#Creo diccionario vacío del inventario\n",
    "inventory = {}\n",
    "\n",
    "#Pregunto al usuario disponibilidad de cada producto\n",
    "for producto in products:\n",
    "    cantidad = int(input(f\"Introduce cantidad de {producto}\"))\n",
    "    inventory[producto] = cantidad\n",
    "print(inventory)"
   ]
  },
  {
   "cell_type": "code",
   "execution_count": 10,
   "id": "3cc83897",
   "metadata": {},
   "outputs": [
    {
     "name": "stdout",
     "output_type": "stream",
     "text": [
      "El pedido de los clientes es: \n",
      "\n",
      "mug\n",
      "hat\n"
     ]
    }
   ],
   "source": [
    "#Creo un set\n",
    "customer_orders= set()\n",
    "\n",
    "#Loop para el pedido de los clientes.\n",
    "while True:\n",
    "    orden = input('Introduce el nombre del producto que quieres pedir:').lower()\n",
    "    if orden in products:\n",
    "        customer_orders.add(orden)\n",
    "    else:\n",
    "        print(f'{orden} no es un producto válido. Elige un producto de esta lista {products}')\n",
    "    otro_pedido = input('¿Quieres otro producto? (yes/no)' ).lower()\n",
    "    if otro_pedido != 'yes':\n",
    "        break\n",
    "\n",
    "#Imprimo los valores\n",
    "print(\"El pedido de los clientes es: \\n\")\n",
    "for pedido in customer_orders: \n",
    "    print(pedido)    "
   ]
  },
  {
   "cell_type": "code",
   "execution_count": 11,
   "id": "90cedf78",
   "metadata": {},
   "outputs": [
    {
     "name": "stdout",
     "output_type": "stream",
     "text": [
      "{'t-shirt': 4, 'mug': 4, 'hat': 5, 'book': 7, 'keychain': 8}\n"
     ]
    }
   ],
   "source": [
    "#Actualizo el inventario quitando 1 de cada producto del pedido\n",
    "for producto in customer_orders:\n",
    "    if inventory[producto] > 0:\n",
    "        inventory[producto] -= 1\n",
    "print(inventory)"
   ]
  }
 ],
 "metadata": {
  "kernelspec": {
   "display_name": "Python 3 (ipykernel)",
   "language": "python",
   "name": "python3"
  },
  "language_info": {
   "codemirror_mode": {
    "name": "ipython",
    "version": 3
   },
   "file_extension": ".py",
   "mimetype": "text/x-python",
   "name": "python",
   "nbconvert_exporter": "python",
   "pygments_lexer": "ipython3",
   "version": "3.8.2"
  }
 },
 "nbformat": 4,
 "nbformat_minor": 5
}
